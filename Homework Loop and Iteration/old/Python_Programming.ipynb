{
  "nbformat": 4,
  "nbformat_minor": 0,
  "metadata": {
    "colab": {
      "provenance": []
    },
    "kernelspec": {
      "name": "python3",
      "display_name": "Python 3"
    },
    "language_info": {
      "name": "python"
    }
  },
  "cells": [
    {
      "cell_type": "markdown",
      "source": [
        "# SOAL 1\n",
        "\n",
        "Tentukan dari variabel\n",
        "\n",
        "list_plat_mobil = ['B 1234 AB', 'B 6721 TY', 'B 1233 AY', 'B 6629 DD', 'B 1111 AM', 'B 6726 D', 'D 11223 KJ', 'AE 44677 GH', 'AE 67269 AA']\n",
        "\n",
        "Ada berapa jumlah plat genap dan ganjil."
      ],
      "metadata": {
        "id": "D__E4iAi8r75"
      }
    },
    {
      "cell_type": "markdown",
      "source": [
        "Jawab :"
      ],
      "metadata": {
        "id": "CY4oC_yW8vp4"
      }
    },
    {
      "cell_type": "code",
      "source": [
        "# Silahkan ganti angka pada variabel berikut lalu run untuk melihat hasilnya\n",
        "angka = 34\n",
        "\n",
        "if(angka % 2 == 0):\n",
        "    print(f'Angka {angka} merupakan bilangan genap')\n",
        "else:\n",
        "    print(f'Angka {angka} merupakan bilangan ganjil')"
      ],
      "metadata": {
        "colab": {
          "base_uri": "https://localhost:8080/"
        },
        "id": "6Q_6d-2xB6xO",
        "outputId": "0689ab38-5079-4a8a-cc65-3b782dd6dc7e"
      },
      "execution_count": 8,
      "outputs": [
        {
          "output_type": "stream",
          "name": "stdout",
          "text": [
            "Angka 34 merupakan bilangan genap\n"
          ]
        }
      ]
    },
    {
      "cell_type": "code",
      "source": [
        "# Import library yang digunakan\n",
        "plat = 'N 4560 R'\n",
        "\n",
        "# Proses ekstraks angka saja\n",
        "angka_plat = ''\n",
        "for huruf in plat:\n",
        "    if huruf.isdigit():\n",
        "        angka_plat += huruf\n",
        "\n",
        "# Konversi menjadi integer\n",
        "angka_plat = int(angka_plat)\n",
        "\n",
        "# Tampilkan hasilnya\n",
        "print(f'Angka pada plat {plat} adalah {angka_plat} dengan tipe data {type(angka_plat)}')"
      ],
      "metadata": {
        "colab": {
          "base_uri": "https://localhost:8080/"
        },
        "id": "NgnE7jUV8rZi",
        "outputId": "e7249ce8-f628-4cbf-f804-efcf09ec921e"
      },
      "execution_count": 5,
      "outputs": [
        {
          "output_type": "stream",
          "name": "stdout",
          "text": [
            "Angka pada plat N 4560 R adalah 4560 dengan tipe data <class 'int'>\n"
          ]
        }
      ]
    },
    {
      "cell_type": "code",
      "source": [
        "list_plat_mobil = ['B 1234 AB', 'B 6721 TY', 'B 1233 AY', 'B 6629 DD', 'B 1111 AM', 'B 6726 D', 'D 11223 KJ', 'AE 44677 GH', 'AE 67269 AA']\n",
        "\n",
        "for plat in list_plat_mobil:\n",
        "    print(f'Plat mobil ke-{list_plat_mobil.index(plat)+1} adalah {plat}')"
      ],
      "metadata": {
        "colab": {
          "base_uri": "https://localhost:8080/"
        },
        "id": "sAX-yDFZ-Rz2",
        "outputId": "2497d4bd-0537-4257-d8b1-ed6a5e5a9c06"
      },
      "execution_count": 7,
      "outputs": [
        {
          "output_type": "stream",
          "name": "stdout",
          "text": [
            "Plat mobil ke-1 adalah B 1234 AB\n",
            "Plat mobil ke-2 adalah B 6721 TY\n",
            "Plat mobil ke-3 adalah B 1233 AY\n",
            "Plat mobil ke-4 adalah B 6629 DD\n",
            "Plat mobil ke-5 adalah B 1111 AM\n",
            "Plat mobil ke-6 adalah B 6726 D\n",
            "Plat mobil ke-7 adalah D 11223 KJ\n",
            "Plat mobil ke-8 adalah AE 44677 GH\n",
            "Plat mobil ke-9 adalah AE 67269 AA\n"
          ]
        }
      ]
    },
    {
      "cell_type": "markdown",
      "source": [
        "Sekarang kombinasikan sintaks diatas untuk mengklasifikasikan list mobil dengan nomor genap dan ganjil 🚀"
      ],
      "metadata": {
        "id": "yJ8gQzxtBswZ"
      }
    },
    {
      "cell_type": "code",
      "source": [
        "..."
      ],
      "metadata": {
        "id": "Fi8UqmCSCoQY"
      },
      "execution_count": null,
      "outputs": []
    },
    {
      "cell_type": "markdown",
      "source": [
        "---"
      ],
      "metadata": {
        "id": "OHZiB5WOColw"
      }
    },
    {
      "cell_type": "markdown",
      "source": [
        "# SOAL 2\n",
        "\n",
        "Buatlah deret fibonacci 12 angka yang dimulai dari 2 dan 3 menggunakan iterasi cara for atau while.\n",
        "\n",
        "Output yang diharapkan adalah [2, 3, 5, 8, 13, 21, 34, 55, 89, 144, 233, 377]"
      ],
      "metadata": {
        "id": "3mB_tAXfCtQd"
      }
    },
    {
      "cell_type": "markdown",
      "source": [
        "Jawab :\n",
        "\n",
        "Barisan fibonacci adalah barisan yang dua nilai awalnya diinput dengan bebas lalu elemen selanjutnya adalah hasil tambah dari dua elemen sebelumnya\n",
        "<br><br>\n",
        "<img src=\"https://media.geeksforgeeks.org/wp-content/uploads/20230828183030/FIBONACCI-SERIES.png\">"
      ],
      "metadata": {
        "id": "2ks3sJNrDAQm"
      }
    },
    {
      "cell_type": "code",
      "source": [
        "# Inisialisasi list awal\n",
        "list_awal = [1, 2, 3]\n",
        "\n",
        "# Tampilkan hasilnya\n",
        "print(list_awal)"
      ],
      "metadata": {
        "colab": {
          "base_uri": "https://localhost:8080/"
        },
        "id": "RkSCZleSFIcH",
        "outputId": "c7c24a92-950f-49a9-c7f9-e66bbc5a17d5"
      },
      "execution_count": 13,
      "outputs": [
        {
          "output_type": "stream",
          "name": "stdout",
          "text": [
            "[1, 2, 3]\n"
          ]
        }
      ]
    },
    {
      "cell_type": "code",
      "source": [
        "# Append digunakan untuk menambahkan elemen di posisi akhir pada list\n",
        "list_awal.append(5)\n",
        "\n",
        "# Tampilkan hasilnya\n",
        "print(list_awal)"
      ],
      "metadata": {
        "colab": {
          "base_uri": "https://localhost:8080/"
        },
        "id": "fO_HUL7IFMPV",
        "outputId": "8bbb568e-32fb-4cc1-f98f-0a7d522bc156"
      },
      "execution_count": 14,
      "outputs": [
        {
          "output_type": "stream",
          "name": "stdout",
          "text": [
            "[1, 2, 3, 5]\n"
          ]
        }
      ]
    },
    {
      "cell_type": "code",
      "source": [
        "# Masukan banyak barisan yang ingin dibentuk\n",
        "total_barisan = input('Masukan banyak barisan yang ingin dibentuk : ')\n",
        "\n",
        "# Konversi menjadi integer\n",
        "total_barisan = int(total_barisan)\n",
        "\n",
        "# Masukan bilangan\n",
        "bil_pertama = input('Masukan bilangan pertama : ')\n",
        "bil_kedua   = input('Masukan bilangan kedua : ')\n",
        "\n",
        "# Konversi menjadi angka (int / float bebas)\n",
        "bil_pertama = int(bil_pertama)\n",
        "bil_kedua = int(bil_kedua)\n",
        "\n",
        "# Buat wadah penampung kosong (berupa list atau lainnya) nilai fibonacci\n",
        "barisan_fibonacci = list()\n",
        "\n",
        "# Lakukan perhitungan\n",
        "for i in range(total_barisan):\n",
        "    if(i == 0):\n",
        "        ...\n",
        "    elif(i == 1):\n",
        "        ...\n",
        "    else:\n",
        "        ...\n",
        "\n",
        "print('Barisan yang terbentuk adalah ')\n",
        "print(barisan_fibonacci)"
      ],
      "metadata": {
        "colab": {
          "base_uri": "https://localhost:8080/"
        },
        "id": "DxqrO6hcDnai",
        "outputId": "9c3c1334-03d2-449f-8503-9fab253e8689"
      },
      "execution_count": 12,
      "outputs": [
        {
          "output_type": "stream",
          "name": "stdout",
          "text": [
            "Masukan banyak barisan yang ingin dibentuk : 12\n",
            "Masukan bilangan pertama : 2\n",
            "Masukan bilangan kedua : 3\n",
            "\n",
            "Ekspektasi Output\n",
            "\n",
            "[2, 3, 5, 8, 13, 21, 34, 55, 89, 144, 233, 377]\n"
          ]
        }
      ]
    },
    {
      "cell_type": "markdown",
      "source": [
        "---"
      ],
      "metadata": {
        "id": "fQwq4m7YFi3S"
      }
    },
    {
      "cell_type": "markdown",
      "source": [
        "# SOAL 3\n",
        "\n",
        "Team Campaign PT ABC akan membuat promo bundling category product (berisi 3 category setiap bundling) untuk promo 17 Agustus.  PT ABC memiliki 10 category product.  Ketentuan Bundling tidak boleh hanya memiliki 1 jenis category dalam 1 bundling dan urutan tidak menjadi faktor pembeda (c1 - c2 - c3 = c2 - c1 - c3). Tentukan ada berapa jumlah kemungkinan bundling yang bisa terbentuk?\n",
        "\n",
        "Berikut list code category <b>list_id_category</b> = [c1, c2, c3, c4, c5, c6, c7 , c8, c9, c10]"
      ],
      "metadata": {
        "id": "jAEV8J9HFq06"
      }
    },
    {
      "cell_type": "markdown",
      "source": [
        "Jawab :"
      ],
      "metadata": {
        "id": "gXld_MmqFvuq"
      }
    },
    {
      "cell_type": "code",
      "source": [
        "# Buat list produk\n",
        "list_id_category = ['c1', 'c2', 'c3', 'c4', 'c5', 'c6', 'c7' , 'c8', 'c9', 'c10']"
      ],
      "metadata": {
        "id": "eunITJgiFuiW"
      },
      "execution_count": 17,
      "outputs": []
    },
    {
      "cell_type": "code",
      "source": [
        "# Buat list kosong untuk menampung nilai\n",
        "list_bundling_category = list()\n",
        "\n",
        "for kategori1 in list_id_category:\n",
        "    category1 = ...\n",
        "    for kategori2 in list_id_category:\n",
        "        category2 = ...\n",
        "        for kategori3 in list_id_category:\n",
        "            category3 = ...\n",
        "\n",
        "            # Lakukan proses pengurutan list\n",
        "            list_sort = sorted([..., ..., ...])\n",
        "\n",
        "            # Lakukan proses filter dengan ketentuan yang berlaku\n",
        "            if ...\n",
        "                list_bundling_category.append(...)\n",
        "\n",
        "# Tampilkan hasilnya\n",
        "print('Terdapat', len(list_bundling_category), 'kemungkinan bundling category untuk keperluan campaign')"
      ],
      "metadata": {
        "colab": {
          "base_uri": "https://localhost:8080/"
        },
        "id": "WWJRtNgqF0Wi",
        "outputId": "57b505a4-f657-4cbb-ee54-8b7f406f2189"
      },
      "execution_count": 18,
      "outputs": [
        {
          "output_type": "stream",
          "name": "stdout",
          "text": [
            "Terdapat 210 kemungkinan bundling category untuk keperluan campaign\n"
          ]
        }
      ]
    },
    {
      "cell_type": "code",
      "source": [
        "print(f'Kemungkinan kombinasi bundling\\n{list_bundling_category}')"
      ],
      "metadata": {
        "colab": {
          "base_uri": "https://localhost:8080/"
        },
        "id": "z82Kyx2EGwUy",
        "outputId": "022a4c08-ada6-4bf5-a649-5190b019402b"
      },
      "execution_count": 19,
      "outputs": [
        {
          "output_type": "stream",
          "name": "stdout",
          "text": [
            "Kemungkinan kombinasi bundling\n",
            "[['c1', 'c1', 'c2'], ['c1', 'c2', 'c3'], ['c1', 'c2', 'c4'], ['c1', 'c2', 'c5'], ['c1', 'c2', 'c6'], ['c1', 'c2', 'c7'], ['c1', 'c2', 'c8'], ['c1', 'c2', 'c9'], ['c1', 'c10', 'c2'], ['c1', 'c1', 'c3'], ['c1', 'c3', 'c4'], ['c1', 'c3', 'c5'], ['c1', 'c3', 'c6'], ['c1', 'c3', 'c7'], ['c1', 'c3', 'c8'], ['c1', 'c3', 'c9'], ['c1', 'c10', 'c3'], ['c1', 'c1', 'c4'], ['c1', 'c4', 'c5'], ['c1', 'c4', 'c6'], ['c1', 'c4', 'c7'], ['c1', 'c4', 'c8'], ['c1', 'c4', 'c9'], ['c1', 'c10', 'c4'], ['c1', 'c1', 'c5'], ['c1', 'c5', 'c6'], ['c1', 'c5', 'c7'], ['c1', 'c5', 'c8'], ['c1', 'c5', 'c9'], ['c1', 'c10', 'c5'], ['c1', 'c1', 'c6'], ['c1', 'c6', 'c7'], ['c1', 'c6', 'c8'], ['c1', 'c6', 'c9'], ['c1', 'c10', 'c6'], ['c1', 'c1', 'c7'], ['c1', 'c7', 'c8'], ['c1', 'c7', 'c9'], ['c1', 'c10', 'c7'], ['c1', 'c1', 'c8'], ['c1', 'c8', 'c9'], ['c1', 'c10', 'c8'], ['c1', 'c1', 'c9'], ['c1', 'c10', 'c9'], ['c1', 'c1', 'c10'], ['c1', 'c2', 'c2'], ['c2', 'c2', 'c3'], ['c2', 'c3', 'c4'], ['c2', 'c3', 'c5'], ['c2', 'c3', 'c6'], ['c2', 'c3', 'c7'], ['c2', 'c3', 'c8'], ['c2', 'c3', 'c9'], ['c10', 'c2', 'c3'], ['c2', 'c2', 'c4'], ['c2', 'c4', 'c5'], ['c2', 'c4', 'c6'], ['c2', 'c4', 'c7'], ['c2', 'c4', 'c8'], ['c2', 'c4', 'c9'], ['c10', 'c2', 'c4'], ['c2', 'c2', 'c5'], ['c2', 'c5', 'c6'], ['c2', 'c5', 'c7'], ['c2', 'c5', 'c8'], ['c2', 'c5', 'c9'], ['c10', 'c2', 'c5'], ['c2', 'c2', 'c6'], ['c2', 'c6', 'c7'], ['c2', 'c6', 'c8'], ['c2', 'c6', 'c9'], ['c10', 'c2', 'c6'], ['c2', 'c2', 'c7'], ['c2', 'c7', 'c8'], ['c2', 'c7', 'c9'], ['c10', 'c2', 'c7'], ['c2', 'c2', 'c8'], ['c2', 'c8', 'c9'], ['c10', 'c2', 'c8'], ['c2', 'c2', 'c9'], ['c10', 'c2', 'c9'], ['c10', 'c2', 'c2'], ['c1', 'c3', 'c3'], ['c2', 'c3', 'c3'], ['c3', 'c3', 'c4'], ['c3', 'c4', 'c5'], ['c3', 'c4', 'c6'], ['c3', 'c4', 'c7'], ['c3', 'c4', 'c8'], ['c3', 'c4', 'c9'], ['c10', 'c3', 'c4'], ['c3', 'c3', 'c5'], ['c3', 'c5', 'c6'], ['c3', 'c5', 'c7'], ['c3', 'c5', 'c8'], ['c3', 'c5', 'c9'], ['c10', 'c3', 'c5'], ['c3', 'c3', 'c6'], ['c3', 'c6', 'c7'], ['c3', 'c6', 'c8'], ['c3', 'c6', 'c9'], ['c10', 'c3', 'c6'], ['c3', 'c3', 'c7'], ['c3', 'c7', 'c8'], ['c3', 'c7', 'c9'], ['c10', 'c3', 'c7'], ['c3', 'c3', 'c8'], ['c3', 'c8', 'c9'], ['c10', 'c3', 'c8'], ['c3', 'c3', 'c9'], ['c10', 'c3', 'c9'], ['c10', 'c3', 'c3'], ['c1', 'c4', 'c4'], ['c2', 'c4', 'c4'], ['c3', 'c4', 'c4'], ['c4', 'c4', 'c5'], ['c4', 'c5', 'c6'], ['c4', 'c5', 'c7'], ['c4', 'c5', 'c8'], ['c4', 'c5', 'c9'], ['c10', 'c4', 'c5'], ['c4', 'c4', 'c6'], ['c4', 'c6', 'c7'], ['c4', 'c6', 'c8'], ['c4', 'c6', 'c9'], ['c10', 'c4', 'c6'], ['c4', 'c4', 'c7'], ['c4', 'c7', 'c8'], ['c4', 'c7', 'c9'], ['c10', 'c4', 'c7'], ['c4', 'c4', 'c8'], ['c4', 'c8', 'c9'], ['c10', 'c4', 'c8'], ['c4', 'c4', 'c9'], ['c10', 'c4', 'c9'], ['c10', 'c4', 'c4'], ['c1', 'c5', 'c5'], ['c2', 'c5', 'c5'], ['c3', 'c5', 'c5'], ['c4', 'c5', 'c5'], ['c5', 'c5', 'c6'], ['c5', 'c6', 'c7'], ['c5', 'c6', 'c8'], ['c5', 'c6', 'c9'], ['c10', 'c5', 'c6'], ['c5', 'c5', 'c7'], ['c5', 'c7', 'c8'], ['c5', 'c7', 'c9'], ['c10', 'c5', 'c7'], ['c5', 'c5', 'c8'], ['c5', 'c8', 'c9'], ['c10', 'c5', 'c8'], ['c5', 'c5', 'c9'], ['c10', 'c5', 'c9'], ['c10', 'c5', 'c5'], ['c1', 'c6', 'c6'], ['c2', 'c6', 'c6'], ['c3', 'c6', 'c6'], ['c4', 'c6', 'c6'], ['c5', 'c6', 'c6'], ['c6', 'c6', 'c7'], ['c6', 'c7', 'c8'], ['c6', 'c7', 'c9'], ['c10', 'c6', 'c7'], ['c6', 'c6', 'c8'], ['c6', 'c8', 'c9'], ['c10', 'c6', 'c8'], ['c6', 'c6', 'c9'], ['c10', 'c6', 'c9'], ['c10', 'c6', 'c6'], ['c1', 'c7', 'c7'], ['c2', 'c7', 'c7'], ['c3', 'c7', 'c7'], ['c4', 'c7', 'c7'], ['c5', 'c7', 'c7'], ['c6', 'c7', 'c7'], ['c7', 'c7', 'c8'], ['c7', 'c8', 'c9'], ['c10', 'c7', 'c8'], ['c7', 'c7', 'c9'], ['c10', 'c7', 'c9'], ['c10', 'c7', 'c7'], ['c1', 'c8', 'c8'], ['c2', 'c8', 'c8'], ['c3', 'c8', 'c8'], ['c4', 'c8', 'c8'], ['c5', 'c8', 'c8'], ['c6', 'c8', 'c8'], ['c7', 'c8', 'c8'], ['c8', 'c8', 'c9'], ['c10', 'c8', 'c9'], ['c10', 'c8', 'c8'], ['c1', 'c9', 'c9'], ['c2', 'c9', 'c9'], ['c3', 'c9', 'c9'], ['c4', 'c9', 'c9'], ['c5', 'c9', 'c9'], ['c6', 'c9', 'c9'], ['c7', 'c9', 'c9'], ['c8', 'c9', 'c9'], ['c10', 'c9', 'c9'], ['c1', 'c10', 'c10'], ['c10', 'c10', 'c2'], ['c10', 'c10', 'c3'], ['c10', 'c10', 'c4'], ['c10', 'c10', 'c5'], ['c10', 'c10', 'c6'], ['c10', 'c10', 'c7'], ['c10', 'c10', 'c8'], ['c10', 'c10', 'c9']]\n"
          ]
        }
      ]
    },
    {
      "cell_type": "markdown",
      "source": [
        "---"
      ],
      "metadata": {
        "id": "P2jLkJk2HCRb"
      }
    },
    {
      "cell_type": "markdown",
      "source": [
        "# SOAL 4\n",
        "\n",
        "Buatlah sebuah function string_processor dengan inputan 2 parameter, yaitu suatu string 1 kata dan nama proses yang akan dilakukan. Function ini memiliki 4 proses\n",
        "\n",
        "- first_char : return huruf pertama dari string yang diinput\n",
        "- last_char : return huruf terakhir dari string yang diinput\n",
        "- num_chars : return jumlah huruf string input\n",
        "- num_vowels : return jumlah huruf vocal pada string input"
      ],
      "metadata": {
        "id": "2OEpoGD0Htbu"
      }
    },
    {
      "cell_type": "markdown",
      "source": [
        "Jawab :\n",
        "\n",
        "String pada python juga memiliki index (pengkodean urutan) baik secara increase (naik) maupun decrease (turun)\n",
        "\n",
        "contoh : <br>\n",
        "\n",
        "<img src = \"https://media.geeksforgeeks.org/wp-content/uploads/20200710002648/Index-in-Python-1024x508.png\">\n",
        "\n",
        "andai kita memiliki string 'Geeks for Geeks!' maka index ke-4 adalah huruf s dan dapat diakses dengan cara\n",
        "\n",
        "```\n",
        "input_kata = 'Geeks for Geeks!'\n",
        "\n",
        "print(f'Indeks ke-4 dari kata {input_kata} adalah {input_kata[4]}')\n",
        "```"
      ],
      "metadata": {
        "id": "QByp5OO6IDPv"
      }
    },
    {
      "cell_type": "code",
      "source": [
        "# Mengakses index positif pada string\n",
        "input_kata = 'Geeks for Geeks!'\n",
        "\n",
        "# Tampilkan hasilnya\n",
        "print(f'Indeks ke-4 dari kata {input_kata} adalah {input_kata[4]}')"
      ],
      "metadata": {
        "colab": {
          "base_uri": "https://localhost:8080/"
        },
        "id": "ObMMmfxeIqtB",
        "outputId": "0b60a408-bb41-4fb0-ce2f-40123a711509"
      },
      "execution_count": 23,
      "outputs": [
        {
          "output_type": "stream",
          "name": "stdout",
          "text": [
            "Indeks ke-4 dari kata Geeks for Geeks! adalah s\n"
          ]
        }
      ]
    },
    {
      "cell_type": "code",
      "source": [
        "# Mengakses index negatif pada string\n",
        "input_kata = 'Geeks for Geeks!'\n",
        "\n",
        "# Tampilkan hasilnya\n",
        "print(f'Urutan ketiga dari belakang dari kata {input_kata} adalah {input_kata[-3]}')"
      ],
      "metadata": {
        "colab": {
          "base_uri": "https://localhost:8080/"
        },
        "id": "knjnCTFJI9Ao",
        "outputId": "e54aeb65-d149-4151-8486-c853af04fa40"
      },
      "execution_count": 25,
      "outputs": [
        {
          "output_type": "stream",
          "name": "stdout",
          "text": [
            "Urutan ketiga dari belakang dari kata Geeks for Geeks! adalah k\n"
          ]
        }
      ]
    },
    {
      "cell_type": "code",
      "source": [
        "# Mengakses jumlah huruf pada string\n",
        "input_kata = 'Geeks for Geeks!'\n",
        "\n",
        "# Hitung banyak huruf\n",
        "banyak_huruf = len(input_kata)\n",
        "\n",
        "# Tampilkan hasilnya\n",
        "print(f'Banyak huruf pada kata {input_kata} adalah {banyak_huruf}')"
      ],
      "metadata": {
        "colab": {
          "base_uri": "https://localhost:8080/"
        },
        "id": "gZ9afgROH5AS",
        "outputId": "117dc29e-2f4c-4fc8-92a1-646796afb278"
      },
      "execution_count": 26,
      "outputs": [
        {
          "output_type": "stream",
          "name": "stdout",
          "text": [
            "Banyak huruf pada kata Geeks for Geeks! adalah 16\n"
          ]
        }
      ]
    },
    {
      "cell_type": "code",
      "source": [
        "# Mengakses jumlah huruf pada string\n",
        "input_kata = 'Geeks for Geeks!'\n",
        "\n",
        "# Hitung banyak huruf\n",
        "vowels_in_str = list()\n",
        "for huruf in input_kata:\n",
        "    if(huruf.lower() in ['a', 'i', 'u', 'e', 'o']):\n",
        "        vowels_in_str.append(huruf)\n",
        "\n",
        "# Tampilkan hasilnya\n",
        "print(f'Banyak huruf vokal pada kata {input_kata} adalah {len(vowels_in_str)}')"
      ],
      "metadata": {
        "colab": {
          "base_uri": "https://localhost:8080/"
        },
        "id": "G4KM5PMxJseF",
        "outputId": "c9bba291-6a03-442d-d479-52c9e222d4d7"
      },
      "execution_count": 28,
      "outputs": [
        {
          "output_type": "stream",
          "name": "stdout",
          "text": [
            "Banyak huruf vokal pada kata Geeks for Geeks! adalah 5\n"
          ]
        }
      ]
    },
    {
      "cell_type": "markdown",
      "source": [
        "Kombinasikan semua sintaks diatas untuk membuat fungsinya!"
      ],
      "metadata": {
        "id": "VdhsjfcaKLXI"
      }
    },
    {
      "cell_type": "code",
      "source": [
        "def string_processor(metode, string):\n",
        "    if metode == ... :\n",
        "        ...\n",
        "    elif metode == ... :\n",
        "        ...\n",
        "    elif metode == ... :\n",
        "        ...\n",
        "    elif metode == ... :\n",
        "        ...\n",
        "    else:\n",
        "        print('Inputan Salah')\n",
        "\n",
        "    return ..."
      ],
      "metadata": {
        "id": "ILwAmveYKK9Z"
      },
      "execution_count": null,
      "outputs": []
    },
    {
      "cell_type": "code",
      "source": [
        "# Masukan kata\n",
        "input_kata = input('Masukan sebuah kata')\n",
        "\n",
        "# Eksekusi fungsi\n",
        "hasil = string_processor(metode = ..., string = input_kata)\n",
        "\n",
        "# Tampilkan hasilnya\n",
        "print(hasil)"
      ],
      "metadata": {
        "id": "tMIhWHc9Kia8"
      },
      "execution_count": null,
      "outputs": []
    }
  ]
}